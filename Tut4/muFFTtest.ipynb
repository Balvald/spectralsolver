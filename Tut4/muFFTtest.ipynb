{
 "cells": [
  {
   "cell_type": "code",
   "execution_count": 9,
   "metadata": {},
   "outputs": [
    {
     "name": "stdout",
     "output_type": "stream",
     "text": [
      "  Rank   Size          Domain       Subdomain        Location\n",
      "  ----   ----          ------       ---------        --------\n",
      "     0      1    (32, 32, 32)    (32, 32, 32)       (0, 0, 0)\n"
     ]
    }
   ],
   "source": [
    "import numpy as np\n",
    "from mpi4py import MPI\n",
    "from muGrid import FileIONetCDF, OpenMode, Communicator\n",
    "from muFFT import FFT\n",
    "\n",
    "# Instantiate a FFT object with the PocketFFT engine\n",
    "nb_grid_pts = (32, 32, 32)\n",
    "physical_sizes = (2, 2, 2)  # Sizes of the domain (in arbitrary units)\n",
    "nx, ny, nz = nb_grid_pts\n",
    "lx, ly, lz = physical_sizes\n",
    "fft = FFT(nb_grid_pts, engine='mpi', communicator=MPI.COMM_WORLD)\n",
    "\n",
    "if MPI.COMM_WORLD.rank == 0:\n",
    "    print('  Rank   Size          Domain       Subdomain        Location')\n",
    "    print('  ----   ----          ------       ---------        --------')\n",
    "if MPI.COMM_WORLD.rank == 1:\n",
    "    print('  Rank   Size          Domain       Subdomain        Location')\n",
    "    print('  ----   ----          ------       ---------        --------')\n",
    "if MPI.COMM_WORLD.rank == 2:\n",
    "    print('  Rank   Size          Domain       Subdomain        Location')\n",
    "    print('  ----   ----          ------       ---------        --------')\n",
    "MPI.COMM_WORLD.Barrier()  # Barrier so header is printed first\n",
    "\n",
    "print(f'{MPI.COMM_WORLD.rank:6} {MPI.COMM_WORLD.size:6} {str(fft.nb_domain_grid_pts):>15} {str(fft.nb_subdomain_grid_pts):>15} {str(fft.subdomain_locations):>15}')\n",
    "\n",
    "# Obtain a real field and fill it\n",
    "rfield = fft.real_space_field('scalar-field')\n",
    "x, y, z = fft.coords\n",
    "rfield.p = np.sin(2 * np.pi * x + 4 * np.pi * y)  # Just a sine\n",
    "\n",
    "# Compute Fourier transform\n",
    "ffield = fft.fourier_space_field('scalar-field')\n",
    "fft.fft(rfield, ffield)\n",
    "\n",
    "# Compute Fourier gradient by multiplying with wavevector\n",
    "fgrad = fft.fourier_space_field('gradient-field', (3,))\n",
    "fgrad.p = 2 * np.pi * 1j * fft.fftfreq * ffield.p\n",
    "\n",
    "# Inverse transform to get gradient in real space\n",
    "rgrad = fft.real_space_field('gradient-field', (3,))\n",
    "fft.ifft(fgrad, rgrad)\n",
    "\n",
    "# Normalize gradient\n",
    "gradx, grady, gradz = rgrad.p * fft.normalisation\n",
    "gradx *= nx / lx  # Need to multiply with inverse grid spacing\n",
    "grady *= ny / ly  # Need to multiply with inverse grid spacing\n",
    "gradz *= nz / lz  # Need to multiply with inverse grid spacing\n",
    "\n",
    "# Gradient in x is cosine\n",
    "np.testing.assert_allclose(gradx, 2 * np.pi * np.cos(2 * np.pi * x + 4 * np.pi * y) / lx, atol=1e-12)\n",
    "# Gradient in y is also cosine\n",
    "np.testing.assert_allclose(grady, 4 * np.pi * np.cos(2 * np.pi * x + 4 * np.pi * y) / ly, atol=1e-12)\n",
    "# Gradient in z is zero\n",
    "np.testing.assert_allclose(gradz, 0, atol=1e-12)\n",
    "\n",
    "# I/O example\n",
    "#file = FileIONetCDF('example.nc', open_mode=OpenMode.Overwrite, communicator=Communicator(MPI.COMM_WORLD))\n",
    "#file.register_field_collection(fft.real_field_collection)\n",
    "#file.append_frame().write()"
   ]
  }
 ],
 "metadata": {
  "kernelspec": {
   "display_name": "Python 3",
   "language": "python",
   "name": "python3"
  },
  "language_info": {
   "codemirror_mode": {
    "name": "ipython",
    "version": 3
   },
   "file_extension": ".py",
   "mimetype": "text/x-python",
   "name": "python",
   "nbconvert_exporter": "python",
   "pygments_lexer": "ipython3",
   "version": "3.10.12"
  }
 },
 "nbformat": 4,
 "nbformat_minor": 2
}
