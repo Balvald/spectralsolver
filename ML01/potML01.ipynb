{
 "cells": [
  {
   "cell_type": "markdown",
   "metadata": {},
   "source": [
    "Milestone 1: The curl of a vector field\n",
    "\n",
    "In the first milestone, you will implement the curl of a vector field using a Fourier spectral method. The goal is to\n",
    "\n",
    "    …understand how to compute the curl with Fourier-spectral methods.\n",
    "\n",
    "Curl\n",
    "\n",
    "In your project you will implement a pseudospectral solver for the Navier-Stokes equations. We will guide you step-by-step through creating this code. This initial milestone explains how to compute the curl, that is a nessary operation for computing the Navier-Stokes equation in the rotational form that we will use for the project.\n",
    "\n",
    "The curl is a differential operation on a vector field. Given vector field $\\vec{u}(\\vec{r})$, which for the Navier-Stokes equation will be a velocity field, the curl is defined as\n",
    "$$ \\text{curl}\\,\\vec{u}=\\nabla\\times\\vec{u}=\\begin{pmatrix}\\partial_y u_z - \\partial_z u_y\\\\\\partial_z u_x - \\partial_x u_z\\\\\\partial_x u_y - \\partial_y u_x\\end{pmatrix} $$\n",
    "Task 1: Fourier-representation of the curl\n",
    "\n",
    "Given a Fourier-series of the vector-field $\\vec{u}(\\vec{r})$, i.e.\n",
    "$$\\vec{u}(\\vec{r})=\\sum_{\\vec{q}} \\tilde{\\vec{u}}(\\vec{q}) e^{i \\vec{q}\\cdot\\vec{r}}$$\n",
    "\n",
    "with Fourier coefficients $\\tilde{\\vec{u}}(\\vec{q})$, derive the expression for the curl in the Fourier representation.\n"
   ]
  },
  {
   "cell_type": "code",
   "execution_count": 4,
   "metadata": {},
   "outputs": [],
   "source": [
    "%matplotlib inline\n",
    "import numpy as np\n",
    "import matplotlib.pyplot as plt\n",
    "from muFFT import FFT\n",
    "\n",
    "def u(x, y, z):\n",
    "    return np.array([y**2 * z, -x * y, z**2])"
   ]
  },
  {
   "cell_type": "markdown",
   "metadata": {},
   "source": [
    "Task 2: Implement a function computing the curl in real-space\n",
    "\n",
    "Implement a function\n",
    "\n",
    "$\n",
    "nb\\_ grid\\_ pts = (32, 32, 2) \\\\\n",
    "fft = FFT(nb\\_ grid\\_ pts, engine='pocketfft') \\\\\n",
    "def \\ curl(u\\_ cxyz): \\\\\n",
    "    \"\"\"Computes \\ the \\ curl \\ of \\ a \\ vector \\ field \\ in \\ real \\ space.\"\"\" \\\\\n",
    "    fft... \\\\\n",
    "    ... \\\\\n",
    "$\n",
    "\n",
    "that uses the Fourier-representation of the curl derived above to compute the curl of a real-space field. Use µFFT for the computation of the Fourier-transform.\n"
   ]
  },
  {
   "cell_type": "code",
   "execution_count": 5,
   "metadata": {},
   "outputs": [],
   "source": [
    "%matplotlib inline\n",
    "import numpy as np\n",
    "from muFFT import FFT\n",
    "\n",
    "nb_grid_pts = (32, 32, 2)\n",
    "fft = FFT(nb_grid_pts, engine='pocketfft')\n",
    "\n",
    "u_xyz = fft.real_space_field('first rfield')\n",
    "u_xyz_hat = fft.fourier_space_field('first ffield')\n",
    "fsf2 = fft.fourier_space_field('second ffield')\n",
    "rsf2 = fft.real_space_field('second rfield')\n",
    "\n",
    "\n",
    "def curl(u_cxyz):\n",
    "\n",
    "    u_xyz.p = u_cxyz\n",
    "    fft.fft(u_xyz, u_xyz_hat)\n",
    "\n",
    "    wavenumber = fft.fftfreq[0].copy() * 2*np.pi\n",
    "    \n",
    "    fsf2.p = u_xyz_hat.p / wavenumber**2 * fft.normalisation\n",
    "\n",
    "    curl_u_cxyz = fft.ifft(fsf2, rsf2)\n",
    "    \n",
    "    return curl_u_cxyz\n",
    "    "
   ]
  },
  {
   "cell_type": "code",
   "execution_count": 19,
   "metadata": {},
   "outputs": [],
   "source": [
    "%matplotlib inline\n",
    "import numpy as np\n",
    "from muFFT import FFT\n",
    "\n",
    "nb_grid_pts = (32, 32, 2)\n",
    "fft = FFT(nb_grid_pts, engine='pocketfft')\n",
    "\n",
    "def curl(u_cxyz):\n",
    "    u_x, u_y, u_z = u_cxyz\n",
    "    Lx, Ly, Lz = 32, 32, 2\n",
    "    N = u_x.shape\n",
    "\n",
    "    # Create FFT object\n",
    "    fft = FFT(N)\n",
    "\n",
    "    # Compute wave numbers\n",
    "    kx = 2 * np.pi * np.fft.fftfreq(N[0], d=Lx/N[0])\n",
    "    ky = 2 * np.pi * np.fft.fftfreq(N[1], d=Ly/N[1])\n",
    "    kz = 2 * np.pi * np.fft.fftfreq(N[2], d=Lz/N[2])\n",
    "\n",
    "    kx, ky, kz = np.meshgrid(kx, ky, kz, indexing='ij')\n",
    "\n",
    "    # Fourier transform of the vector field components\n",
    "    u_x_hat = np.fft.fft(u_x)\n",
    "    u_y_hat = np.fft.fft(u_y)\n",
    "    u_z_hat = np.fft.fft(u_z)\n",
    "\n",
    "    # Compute the components of the curl in the frequency domain\n",
    "    curl_x_hat = 1j * (ky * u_z_hat - kz * u_y_hat)\n",
    "    curl_y_hat = 1j * (kz * u_x_hat - kx * u_z_hat)\n",
    "    curl_z_hat = 1j * (kx * u_y_hat - ky * u_x_hat)\n",
    "\n",
    "    # Inverse Fourier transform to get the components of the curl in the spatial domain\n",
    "    curl_x = np.fft.ifft(curl_x_hat).real\n",
    "    curl_y = np.fft.ifft(curl_y_hat).real\n",
    "    curl_z = np.fft.ifft(curl_z_hat).real\n",
    "\n",
    "    curl_xyz = np.array([curl_x, curl_y, curl_z])\n",
    "    return curl_xyz\n",
    "\n"
   ]
  },
  {
   "cell_type": "markdown",
   "metadata": {},
   "source": [
    "Task 3: Test that a constant field has vanishing curl\n",
    "\n",
    "As the first simplest test, check that a constant field leads to vanishing curl:\n",
    "\n",
    "$\n",
    "u_cxyz = np.ones([3, *fft.nb_subdomain_grid_pts])\n",
    "curlu_cxyz = curl(u_cxyz)\n",
    "np.testing.assert_allclose(curlu_cxyz, 0)\n",
    "$\n"
   ]
  },
  {
   "cell_type": "code",
   "execution_count": 20,
   "metadata": {},
   "outputs": [
    {
     "data": {
      "text/plain": [
       "[<matplotlib.lines.Line2D at 0x7f5b13194d60>]"
      ]
     },
     "execution_count": 20,
     "metadata": {},
     "output_type": "execute_result"
    },
    {
     "data": {
      "image/png": "[encoded data removed]",
      "text/plain": [
       "<Figure size 640x480 with 1 Axes>"
      ]
     },
     "metadata": {},
     "output_type": "display_data"
    }
   ],
   "source": [
    "%matplotlib inline\n",
    "u_cxyz = np.ones([3, *fft.nb_subdomain_grid_pts])\n",
    "curlu_cxyz = curl(u_cxyz)\n",
    "np.testing.assert_allclose(curlu_cxyz, 0)\n",
    "\n",
    "plt.plot(curlu_cxyz[0].flatten(), label='curl(u)_x')\n",
    "plt.plot(curlu_cxyz[1].flatten(), label='curl(u)_y')\n",
    "plt.plot(curlu_cxyz[2].flatten(), label='curl(u)_z')"
   ]
  },
  {
   "cell_type": "markdown",
   "metadata": {},
   "source": [
    "\n",
    "Task 4: Test nonvanishing curl\n",
    "\n",
    "Compute the curl for the vector field generated by\n",
    "Plot vector field and curl of the vector field. Which value of the curl would you expect? What do you see?"
   ]
  },
  {
   "cell_type": "code",
   "execution_count": 21,
   "metadata": {},
   "outputs": [
    {
     "data": {
      "text/plain": [
       "[<matplotlib.lines.Line2D at 0x7f5b13201000>]"
      ]
     },
     "execution_count": 21,
     "metadata": {},
     "output_type": "execute_result"
    },
    {
     "data": {
      "image/png": "[encoded data removed]",
      "text/plain": [
       "<Figure size 640x480 with 1 Axes>"
      ]
     },
     "metadata": {},
     "output_type": "display_data"
    }
   ],
   "source": [
    "%matplotlib inline\n",
    "norm = np.array([0, 0, 1])\n",
    "u_cxyz = np.cross(norm, fft.coords - 0.5, axis=0)\n",
    "\n",
    "curlu_cxyz = curl(u_cxyz)\n",
    "\n",
    "plt.plot(curlu_cxyz[0].flatten(), label='curl(u)_x')\n",
    "plt.plot(curlu_cxyz[1].flatten(), label='curl(u)_y')\n",
    "plt.plot(curlu_cxyz[2].flatten(), label='curl(u)_z')"
   ]
  }
 ],
 "metadata": {
  "kernelspec": {
   "display_name": "Python 3",
   "language": "python",
   "name": "python3"
  },
  "language_info": {
   "codemirror_mode": {
    "name": "ipython",
    "version": 3
   },
   "file_extension": ".py",
   "mimetype": "text/x-python",
   "name": "python",
   "nbconvert_exporter": "python",
   "pygments_lexer": "ipython3",
   "version": "3.10.12"
  }
 },
 "nbformat": 4,
 "nbformat_minor": 2
}
